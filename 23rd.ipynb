{
 "cells": [
  {
   "cell_type": "markdown",
   "id": "4ef8b5a0-8395-4eb4-b9ad-0213cedbe663",
   "metadata": {
    "tags": []
   },
   "source": [
    "## Question 23 \n",
    "Develop a recursive function tough() that takes two nonnegative integer arguments and outputs a pattern as shown below. Hint: The first argument represents the a of the pattern, where the second argument -- always a pattern of 2 indicates the number *s in the longest line of *s in the pattern"
   ]
  },
  {
   "cell_type": "code",
   "execution_count": 6,
   "id": "11edd925-90d9-4ec5-a90f-f0b91bf38086",
   "metadata": {
    "tags": []
   },
   "outputs": [
    {
     "name": "stdout",
     "output_type": "stream",
     "text": [
      "*\n"
     ]
    }
   ],
   "source": [
    "def tough(a, b):\n",
    "    if b == 1:\n",
    "      \n",
    "        print(' ' * a + '*')\n",
    "    else:\n",
    "        \n",
    "        # Print the top half recursively.\n",
    "        tough(a + b // 2, b // 2)\n",
    "        \n",
    "        print(' ' * a + '*' * b)\n",
    "        # Print the bottom half recursively.\n",
    "        tough(a + b // 2, b // 2)\n",
    " \n",
    "# Test the function with different parameters\n",
    "tough(0, 1)  # a 0, b 1\n"
   ]
  },
  {
   "cell_type": "code",
   "execution_count": 7,
   "id": "5d1e1286-83ec-4798-89ca-1eeb502527da",
   "metadata": {
    "tags": []
   },
   "outputs": [
    {
     "name": "stdout",
     "output_type": "stream",
     "text": [
      " *\n",
      "**\n",
      " *\n"
     ]
    }
   ],
   "source": [
    "tough(0, 2)  # a 0, b 2\n"
   ]
  },
  {
   "cell_type": "code",
   "execution_count": 8,
   "id": "cca045aa-c439-4152-a6ed-dad323facf5c",
   "metadata": {
    "tags": []
   },
   "outputs": [
    {
     "name": "stdout",
     "output_type": "stream",
     "text": [
      "   *\n",
      "  **\n",
      "   *\n",
      "****\n",
      "   *\n",
      "  **\n",
      "   *\n"
     ]
    }
   ],
   "source": [
    "tough(0, 4)  # a 0, b 4"
   ]
  },
  {
   "cell_type": "code",
   "execution_count": null,
   "id": "6a563cb5-bd2e-451e-a4f3-6fd3cb3d1f91",
   "metadata": {},
   "outputs": [],
   "source": []
  }
 ],
 "metadata": {
  "kernelspec": {
   "display_name": "Python 3 (ipykernel)",
   "language": "python",
   "name": "python3"
  },
  "language_info": {
   "codemirror_mode": {
    "name": "ipython",
    "version": 3
   },
   "file_extension": ".py",
   "mimetype": "text/x-python",
   "name": "python",
   "nbconvert_exporter": "python",
   "pygments_lexer": "ipython3",
   "version": "3.11.5"
  }
 },
 "nbformat": 4,
 "nbformat_minor": 5
}
